{
  "nbformat": 4,
  "nbformat_minor": 0,
  "metadata": {
    "colab": {
      "provenance": [],
      "gpuType": "T4",
      "include_colab_link": true
    },
    "kernelspec": {
      "name": "python3",
      "display_name": "Python 3"
    },
    "language_info": {
      "name": "python"
    },
    "accelerator": "GPU"
  },
  "cells": [
    {
      "cell_type": "markdown",
      "metadata": {
        "id": "view-in-github",
        "colab_type": "text"
      },
      "source": [
        "<a href=\"https://colab.research.google.com/github/abhijeet3922/vision-RAG/blob/main/3_develop_vision_rag_end_to_end.ipynb\" target=\"_parent\"><img src=\"https://colab.research.google.com/assets/colab-badge.svg\" alt=\"Open In Colab\"/></a>"
      ]
    },
    {
      "cell_type": "markdown",
      "source": [
        "## **End-to-End Visual Augmented Q&A Process: Vision-RAG**\n",
        "\n",
        "This notebook combines the first two example notebooks to develop end-to-end process of Vision-RAG. This is a two step process:\n",
        "- **Retrieval step**: Using Visual LM embedding (ColPali) to get best matching pages.\n",
        "- **Generation step**: Multi-modal LLM (Qwen) utilizes the retrieved pages, augments the prompt, and generates a final answer.\n",
        "\n",
        "Following are the code components for this notebook:\n",
        "1. [Installing Libraries & Imports](#)\n",
        "2. [Loading Visual Language Model (VLM): ColPali](#)\n",
        "3. [Ingest PDF Data as Embeddings](#)\n",
        "4. [Scoring: Retrieve Best Match with Query](#)\n",
        "5. [Load Multi-modal LLM: Qwen2.5-VL 3B](#)\n",
        "6. [Prepare Prompt with Retrieved Page](#)\n",
        "7. [Generate Answer: Model Inference](#)\n",
        "\n"
      ],
      "metadata": {
        "id": "5xQBbc17QHai"
      }
    },
    {
      "cell_type": "markdown",
      "source": [
        "![attach3.PNG](data:image/png;base64,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)"
      ],
      "metadata": {
        "id": "N6ZxKe1JRcLt"
      }
    },
    {
      "cell_type": "markdown",
      "source": [
        "### 1. Install Libraries & Imports"
      ],
      "metadata": {
        "id": "VxkY_F87DcsR"
      }
    },
    {
      "cell_type": "code",
      "execution_count": null,
      "metadata": {
        "id": "skAQJoUE55Kt"
      },
      "outputs": [],
      "source": [
        "!pip install pdf2image\n",
        "!pip install colpali-engine==0.3.9\n",
        "!sudo apt-get install poppler-utils"
      ]
    },
    {
      "cell_type": "code",
      "source": [
        "import torch\n",
        "import numpy as np\n",
        "from tqdm import tqdm\n",
        "import matplotlib.pyplot as plt\n",
        "from pdf2image import convert_from_path\n",
        "from torch.utils.data import DataLoader\n",
        "from colpali_engine.models import ColPali, ColPaliProcessor"
      ],
      "metadata": {
        "id": "hUzKRXs_Dg-Q"
      },
      "execution_count": null,
      "outputs": []
    },
    {
      "cell_type": "markdown",
      "source": [
        "### 2. Loading Visual Language Model (VLM): ColPali"
      ],
      "metadata": {
        "id": "UtGe88-KTTGC"
      }
    },
    {
      "cell_type": "code",
      "source": [
        "model_name = \"vidore/colpali-v1.3\"\n",
        "\n",
        "model = ColPali.from_pretrained(\n",
        "    model_name,\n",
        "    torch_dtype=torch.bfloat16,\n",
        "    device_map=\"auto\",  # or \"mps\" if on Apple Silicon\n",
        ").eval()\n",
        "\n",
        "processor = ColPaliProcessor.from_pretrained(model_name)"
      ],
      "metadata": {
        "id": "jCsxl9t8GSWB"
      },
      "execution_count": null,
      "outputs": []
    },
    {
      "cell_type": "markdown",
      "source": [
        "### 3. Ingest PDF Data as Embeddings"
      ],
      "metadata": {
        "id": "cFcAdJGLTYLS"
      }
    },
    {
      "cell_type": "code",
      "source": [
        "images = convert_from_path('/content/google-alphabet-2024.pdf')\n",
        "print(\"Number of pages:\", len(images))"
      ],
      "metadata": {
        "id": "AOaxEHBaDmHi"
      },
      "execution_count": null,
      "outputs": []
    },
    {
      "cell_type": "code",
      "source": [
        "dataloader = DataLoader(images,\n",
        "                        batch_size=1,\n",
        "                        shuffle=False,\n",
        "                        collate_fn=lambda x: processor.process_images(x).to(model.device))"
      ],
      "metadata": {
        "id": "tBq8uccqDtJ5"
      },
      "execution_count": null,
      "outputs": []
    },
    {
      "cell_type": "code",
      "source": [
        "dataset = []\n",
        "for batch in tqdm(dataloader):\n",
        "  with torch.no_grad():\n",
        "    batch = {k: v.to(model.device) for k,v in batch.items()}\n",
        "    embeddings = model(**batch)\n",
        "  dataset.extend(list(torch.unbind(embeddings.to(\"cpu\").to(torch.float32))))"
      ],
      "metadata": {
        "id": "_LvJtmY0Dypx"
      },
      "execution_count": null,
      "outputs": []
    },
    {
      "cell_type": "code",
      "source": [
        "query = [\"What is the revenue from Google Cloud for 2023 and 2024 ?\"]\n",
        "\n",
        "batch_queries = processor.process_queries(query).to(model.device)\n",
        "with torch.no_grad():\n",
        "  query_embeddings = model(**batch_queries)"
      ],
      "metadata": {
        "id": "6WvOTSOlD4TR"
      },
      "execution_count": null,
      "outputs": []
    },
    {
      "cell_type": "markdown",
      "source": [
        "### 4. Scoring: Retrieve Best Match with Query\n",
        "\n",
        "The **score_multi_vector** function is used to evaluate the similarity between multiple query vectors and document embeddings. It works by comparing different parts of a query with corresponding sections of a document, assigning a relevance score based on their match.\n",
        "\n",
        "How It Works ?\n",
        "1. <i>Breaks Down the Query</i> - Splits the query into multiple vectors.\n",
        "2. <i>Matches Against Document Patches</i> - Each query vector is compared with different sections (patches) of the document.\n",
        "3. <i>Computes Similarity Scores</i> - Calculates how well each query vector aligns with document patches using dot product similarity.\n",
        "4. <i>Aggregates the Scores</i> - The final score is a sum of individual matches to rank documents.\n",
        "\n",
        "This method ensures fine-grained retrieval also called <i>Late-Interation</i>, making it useful for visual document search where both text and layout matter"
      ],
      "metadata": {
        "id": "pfFexBd3T3bi"
      }
    },
    {
      "cell_type": "code",
      "source": [
        "def score(query_embedding, dataset):\n",
        "  scores = processor.score_multi_vector(query_embedding, dataset)\n",
        "  scores = np.array(scores)\n",
        "  matched_pages = scores.flatten().argsort()[::-1]\n",
        "  return scores, matched_pages"
      ],
      "metadata": {
        "id": "8sy2zYLPD66p"
      },
      "execution_count": null,
      "outputs": []
    },
    {
      "cell_type": "code",
      "source": [
        "scores, matched_pages = score(list(torch.unbind(query_embeddings.to(\"cpu\").to(torch.float32))),dataset)\n",
        "scores, matched_pages"
      ],
      "metadata": {
        "id": "fVYNyXCND-XB"
      },
      "execution_count": null,
      "outputs": []
    },
    {
      "cell_type": "code",
      "source": [
        "fig, ax = plt.subplots(figsize=(16, 12))\n",
        "ax.imshow(images[matched_pages[0]])\n",
        "ax.axis(\"off\")\n",
        "plt.show()"
      ],
      "metadata": {
        "id": "Or8AXvdREEiR"
      },
      "execution_count": null,
      "outputs": []
    },
    {
      "cell_type": "markdown",
      "source": [
        "### 5. Load Multi-modal LLM: Qwen2.5-VL 3B"
      ],
      "metadata": {
        "id": "2bRtac38T7VS"
      }
    },
    {
      "cell_type": "code",
      "source": [
        "!pip install qwen-vl-utils==0.0.08"
      ],
      "metadata": {
        "id": "P1v7ix940s7V"
      },
      "execution_count": null,
      "outputs": []
    },
    {
      "cell_type": "code",
      "source": [
        "from qwen_vl_utils import process_vision_info\n",
        "from transformers import Qwen2_5_VLForConditionalGeneration, AutoTokenizer, AutoProcessor"
      ],
      "metadata": {
        "id": "hPAQ_Sqt03XN"
      },
      "execution_count": null,
      "outputs": []
    },
    {
      "cell_type": "code",
      "source": [
        "# default: Load the model on the available device(s)\n",
        "model = Qwen2_5_VLForConditionalGeneration.from_pretrained(\n",
        "    \"Qwen/Qwen2.5-VL-3B-Instruct\", torch_dtype=\"auto\", device_map=\"auto\"\n",
        ")\n",
        "\n",
        "\n",
        "# default processer\n",
        "processor = AutoProcessor.from_pretrained(\"Qwen/Qwen2.5-VL-3B-Instruct\")"
      ],
      "metadata": {
        "id": "dwMQEZ_0EQdR"
      },
      "execution_count": null,
      "outputs": []
    },
    {
      "cell_type": "markdown",
      "source": [
        "### 6. Prepare Prompt with Retrieved Page"
      ],
      "metadata": {
        "id": "d9960zcpUJ6S"
      }
    },
    {
      "cell_type": "code",
      "source": [
        "messages = [\n",
        "\n",
        "    {\"role\": \"user\",\n",
        "     \"content\": [\n",
        "         {\"type\": \"image\",\n",
        "          \"image\": images[matched_pages[0]],\n",
        "          \"resized_height\": 1024,\n",
        "          \"resized_width\": 1024,\n",
        "         },\n",
        "        {\"type\": \"text\", \"text\": \"What is the revenue from Google Cloud for 2023 and 2024 ?\"}]},\n",
        "\n",
        "]"
      ],
      "metadata": {
        "id": "2tSh4lxeEc3J"
      },
      "execution_count": null,
      "outputs": []
    },
    {
      "cell_type": "code",
      "source": [
        "# Preparation for inference\n",
        "text = processor.apply_chat_template(\n",
        "    messages, tokenize=False, add_generation_prompt=True\n",
        ")\n",
        "image_inputs, video_inputs = process_vision_info(messages)\n",
        "inputs = processor(\n",
        "    text=[text],\n",
        "    images=image_inputs,\n",
        "    videos=video_inputs,\n",
        "    padding=True,\n",
        "    return_tensors=\"pt\",\n",
        ")\n",
        "inputs = inputs.to(\"cuda\")"
      ],
      "metadata": {
        "id": "p4xfx8faEnyx"
      },
      "execution_count": null,
      "outputs": []
    },
    {
      "cell_type": "markdown",
      "source": [
        "### 7. Generate Answer: Model Inference"
      ],
      "metadata": {
        "id": "SN432852UWWK"
      }
    },
    {
      "cell_type": "code",
      "source": [
        "# Inference: Generation of the output\n",
        "\n",
        "with torch.no_grad():\n",
        "  generated_ids = model.generate(**inputs, max_new_tokens=64)\n",
        "\n",
        "generated_ids_trimmed = [\n",
        "    out_ids[len(in_ids) :] for in_ids, out_ids in zip(inputs.input_ids, generated_ids)\n",
        "]\n",
        "output_text = processor.batch_decode(\n",
        "    generated_ids_trimmed, skip_special_tokens=True, clean_up_tokenization_spaces=False\n",
        ")\n",
        "print(output_text)"
      ],
      "metadata": {
        "id": "1KoW-ezJEoZZ"
      },
      "execution_count": null,
      "outputs": []
    }
  ]
}