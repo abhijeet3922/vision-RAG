{
  "nbformat": 4,
  "nbformat_minor": 0,
  "metadata": {
    "colab": {
      "provenance": [],
      "gpuType": "T4",
      "include_colab_link": true
    },
    "kernelspec": {
      "name": "python3",
      "display_name": "Python 3"
    },
    "language_info": {
      "name": "python"
    },
    "accelerator": "GPU"
  },
  "cells": [
    {
      "cell_type": "markdown",
      "metadata": {
        "id": "view-in-github",
        "colab_type": "text"
      },
      "source": [
        "<a href=\"https://colab.research.google.com/github/abhijeet3922/vision-RAG/blob/main/2_prompting_qa_using_multi_modal_llm.ipynb\" target=\"_parent\"><img src=\"https://colab.research.google.com/assets/colab-badge.svg\" alt=\"Open In Colab\"/></a>"
      ]
    },
    {
      "cell_type": "markdown",
      "source": [
        "<div class=\"markdown-google-sans\">\n",
        "\n",
        "## **Prompting Multi-modal LLM for Visual Q&A**\n",
        "</div>\n",
        "\n",
        "- [Loading Qwen2.5 VL: Open-source Multi-modal LLM by Alibaba cloud](https://github.com/QwenLM/Qwen2.5-VL)\n",
        "- [Read Data: Google 2024 Earnings Report]()\n",
        "- [Creating Prompt for Visual Q&A]()\n",
        "- [Inference Qwen2.5-VL 3B: Getting Result]()"
      ],
      "metadata": {
        "id": "zdqz6xmpV7G0"
      }
    },
    {
      "cell_type": "markdown",
      "source": [
        "### Install Libraries"
      ],
      "metadata": {
        "id": "ZXhnCiv-blQs"
      }
    },
    {
      "cell_type": "code",
      "source": [
        "!pip install pdf2image\n",
        "!sudo apt-get install poppler-utils\n",
        "!pip install qwen-vl-utils==0.0.08"
      ],
      "metadata": {
        "collapsed": true,
        "id": "wxvzVjUvw8jg"
      },
      "execution_count": null,
      "outputs": []
    },
    {
      "cell_type": "markdown",
      "source": [
        "### Load Qwen2.5-VL 3B Model"
      ],
      "metadata": {
        "id": "vJkkT6qTbr2k"
      }
    },
    {
      "cell_type": "code",
      "execution_count": null,
      "metadata": {
        "id": "t7jxLJCFwmsw"
      },
      "outputs": [],
      "source": [
        "from transformers import Qwen2_5_VLForConditionalGeneration, AutoTokenizer, AutoProcessor\n",
        "from qwen_vl_utils import process_vision_info\n",
        "\n",
        "# default: Load the model on the available device(s)\n",
        "model = Qwen2_5_VLForConditionalGeneration.from_pretrained(\n",
        "    \"Qwen/Qwen2.5-VL-3B-Instruct\", torch_dtype=\"auto\", device_map=\"auto\"\n",
        ")\n",
        "\n",
        "\n",
        "# default processer\n",
        "processor = AutoProcessor.from_pretrained(\"Qwen/Qwen2.5-VL-3B-Instruct\")"
      ]
    },
    {
      "cell_type": "markdown",
      "source": [
        "### Read PDF Data: Google's Earning Report"
      ],
      "metadata": {
        "id": "Usb7-PhTb1b0"
      }
    },
    {
      "cell_type": "code",
      "source": [
        "from pdf2image import convert_from_path\n",
        "images = convert_from_path('/content/google-alphabet-2024.pdf')\n",
        "print(\"Number of pages:\", len(images))"
      ],
      "metadata": {
        "id": "8nCYan9yGCrX"
      },
      "execution_count": null,
      "outputs": []
    },
    {
      "cell_type": "markdown",
      "source": [
        "### Create Prompt for Qwen2.5-VL with Image Input"
      ],
      "metadata": {
        "id": "LsrxnUqdcJ8M"
      }
    },
    {
      "cell_type": "markdown",
      "source": [
        "There are different ways for processing and integrating visual language information for Qwen Models or any other Multi-modal LLMs.\n",
        "\n",
        "One can provide image as input to LLM in following forms using [qwen-vl-utils](https://pypi.org/project/qwen-vl-utils/) (Kindly look [here](https://github.com/QwenLM/Qwen2.5-VL/tree/main/qwen-vl-utils) for format details).\n",
        "1. Local file path\n",
        "2. Image URL\n",
        "3. Base64 encoded image\n",
        "4. PIL.Image.Image\n",
        "5. Multi-image\n",
        "\n",
        "We provide 27th page (retrieved from visual-auugmented search) as PIL image below."
      ],
      "metadata": {
        "id": "1cr5ZNnPcnJE"
      }
    },
    {
      "cell_type": "code",
      "source": [
        "messages = [\n",
        "\n",
        "    {\"role\": \"user\",\n",
        "     \"content\": [\n",
        "         {\"type\": \"image\",\n",
        "          \"image\": images[27],\n",
        "          \"resized_height\": 1024,\n",
        "          \"resized_width\": 1024,\n",
        "         },\n",
        "        {\"type\": \"text\", \"text\": \"What is the revenue from Google Cloud for 2023 and 2024 ?\"}]},\n",
        "\n",
        "]"
      ],
      "metadata": {
        "id": "yP4uyApAFdIw"
      },
      "execution_count": null,
      "outputs": []
    },
    {
      "cell_type": "code",
      "source": [
        "# Preparation for inference\n",
        "text = processor.apply_chat_template(\n",
        "    messages, tokenize=False, add_generation_prompt=True\n",
        ")\n",
        "image_inputs, video_inputs = process_vision_info(messages)\n",
        "inputs = processor(\n",
        "    text=[text],\n",
        "    images=image_inputs,\n",
        "    videos=video_inputs,\n",
        "    padding=True,\n",
        "    return_tensors=\"pt\",\n",
        ")\n",
        "inputs = inputs.to(\"cuda\")"
      ],
      "metadata": {
        "id": "17I2krdbw7IY"
      },
      "execution_count": null,
      "outputs": []
    },
    {
      "cell_type": "markdown",
      "source": [
        "### Model Inference: Getting Result"
      ],
      "metadata": {
        "id": "PcUOFwgWfaWt"
      }
    },
    {
      "cell_type": "code",
      "source": [
        "# Inference: Generation of the output\n",
        "import torch\n",
        "with torch.no_grad():\n",
        "  generated_ids = model.generate(**inputs, max_new_tokens=64)\n",
        "\n",
        "generated_ids_trimmed = [\n",
        "    out_ids[len(in_ids) :] for in_ids, out_ids in zip(inputs.input_ids, generated_ids)\n",
        "]\n",
        "output_text = processor.batch_decode(\n",
        "    generated_ids_trimmed, skip_special_tokens=True, clean_up_tokenization_spaces=False\n",
        ")\n",
        "print(output_text)"
      ],
      "metadata": {
        "id": "0u2QG967w5Xg"
      },
      "execution_count": null,
      "outputs": []
    }
  ]
}