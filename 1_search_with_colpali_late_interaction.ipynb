{
  "nbformat": 4,
  "nbformat_minor": 0,
  "metadata": {
    "colab": {
      "provenance": [],
      "gpuType": "T4",
      "authorship_tag": "ABX9TyO+cNVidE8cCHfXkI5eyi9q",
      "include_colab_link": true
    },
    "kernelspec": {
      "name": "python3",
      "display_name": "Python 3"
    },
    "language_info": {
      "name": "python"
    },
    "accelerator": "GPU"
  },
  "cells": [
    {
      "cell_type": "markdown",
      "metadata": {
        "id": "view-in-github",
        "colab_type": "text"
      },
      "source": [
        "<a href=\"https://colab.research.google.com/github/abhijeet3922/vision-RAG/blob/main/1_search_with_colpali_late_interaction.ipynb\" target=\"_parent\"><img src=\"https://colab.research.google.com/assets/colab-badge.svg\" alt=\"Open In Colab\"/></a>"
      ]
    },
    {
      "cell_type": "markdown",
      "source": [
        "## **Vision-Augmented Search**\n",
        "\n",
        "This notebook demostrate how to perform query search over a PDF which includes search over all the infographics provided in PDF.\n",
        "- [Installing Libraries](#)\n",
        "- [Loading Visual Language Model (VLM): ColPali](#)\n",
        "- [Read PDF as Images](#)\n",
        "- [Convert PDF pages to Vision Embedding](#)\n",
        "- [Convert Query into Embedding](#)\n",
        "- [Retrieve the best matched Page](#)"
      ],
      "metadata": {
        "id": "yyF8j6OJU4ZF"
      }
    },
    {
      "cell_type": "markdown",
      "source": [
        "### Install Libraries"
      ],
      "metadata": {
        "id": "V1FIvS0SV5_F"
      }
    },
    {
      "cell_type": "code",
      "source": [
        "!pip install colpali-engine==0.3.2\n",
        "!pip install pdf2image\n",
        "!sudo apt-get install poppler-utils"
      ],
      "metadata": {
        "id": "2wWrFkngseSe"
      },
      "execution_count": null,
      "outputs": []
    },
    {
      "cell_type": "markdown",
      "source": [
        "### Load Visual Language Model (ColPali)"
      ],
      "metadata": {
        "id": "ZyvXUxuCajk2"
      }
    },
    {
      "cell_type": "code",
      "execution_count": null,
      "metadata": {
        "id": "8RgSMeBUrJD2"
      },
      "outputs": [],
      "source": [
        "import torch\n",
        "from colpali_engine.models import ColPali, ColPaliProcessor\n",
        "\n",
        "model_name = \"vidore/colpali-v1.3\"\n",
        "\n",
        "model = ColPali.from_pretrained(\n",
        "    model_name,\n",
        "    torch_dtype=torch.bfloat16,\n",
        "    device_map=\"cuda:0\",  # or \"mps\" if on Apple Silicon\n",
        ").eval()\n",
        "\n",
        "processor = ColPaliProcessor.from_pretrained(model_name)"
      ]
    },
    {
      "cell_type": "markdown",
      "source": [
        "### Read PDF data\n",
        "- convert it to images (page by page)"
      ],
      "metadata": {
        "id": "Nvk-SCT2awHW"
      }
    },
    {
      "cell_type": "code",
      "source": [
        "from pdf2image import convert_from_path\n",
        "images = convert_from_path('/content/google-alphabet-2024.pdf')"
      ],
      "metadata": {
        "id": "1GCT_FVytkCv"
      },
      "execution_count": null,
      "outputs": []
    },
    {
      "cell_type": "code",
      "source": [
        "print(\"Number of pages:\", len(images))"
      ],
      "metadata": {
        "id": "SrdzhqPOvb8l"
      },
      "execution_count": null,
      "outputs": []
    },
    {
      "cell_type": "markdown",
      "source": [
        "### Convert Pages into Image Embeddings"
      ],
      "metadata": {
        "id": "RoMXdqdybFY-"
      }
    },
    {
      "cell_type": "code",
      "source": [
        "from torch.utils.data import DataLoader\n",
        "dataloader = DataLoader(images, batch_size=1, shuffle=False, collate_fn=lambda x: processor.process_images(x).to(model.device))"
      ],
      "metadata": {
        "id": "iu15TdaDvfYE"
      },
      "execution_count": null,
      "outputs": []
    },
    {
      "cell_type": "code",
      "source": [
        "from tqdm import tqdm\n",
        "\n",
        "dataset = []\n",
        "for batch in tqdm(dataloader):\n",
        "  with torch.no_grad():\n",
        "    batch = {k: v.to(model.device) for k,v in batch.items()}\n",
        "    embeddings = model(**batch)\n",
        "  dataset.extend(list(torch.unbind(embeddings.to(\"cpu\").to(torch.float32))))"
      ],
      "metadata": {
        "id": "WrpeM6-jv_-J"
      },
      "execution_count": null,
      "outputs": []
    },
    {
      "cell_type": "markdown",
      "source": [
        "### Convert User Query into Embeddings"
      ],
      "metadata": {
        "id": "nzNtIMkdbk_G"
      }
    },
    {
      "cell_type": "code",
      "source": [
        "query = [\"What is the revenue from Google Cloud for 2023 and 2024 ?\"]\n",
        "\n",
        "batch_queries = processor.process_queries(query).to(model.device)\n",
        "with torch.no_grad():\n",
        "  query_embeddings = model(**batch_queries)"
      ],
      "metadata": {
        "id": "BPViiKJqPYKH"
      },
      "execution_count": null,
      "outputs": []
    },
    {
      "cell_type": "markdown",
      "source": [
        "### Retriever: Find Best Matching Page\n",
        "- Uses in-memroy late interaction"
      ],
      "metadata": {
        "id": "-7Gqu0__b0Am"
      }
    },
    {
      "cell_type": "code",
      "source": [
        "import numpy as np\n",
        "\n",
        "def score(query_embedding, dataset):\n",
        "  scores = processor.score_multi_vector(query_embedding, dataset)\n",
        "  scores = np.array(scores)\n",
        "  matched_pages = scores.flatten().argsort()[::-1]\n",
        "  return scores, matched_pages"
      ],
      "metadata": {
        "id": "OexspbvCJKRT"
      },
      "execution_count": null,
      "outputs": []
    },
    {
      "cell_type": "code",
      "source": [
        "scores, matched_pages = score(list(torch.unbind(query_embeddings.to(\"cpu\").to(torch.float32))),dataset)"
      ],
      "metadata": {
        "id": "3mJuXQkEQf4v"
      },
      "execution_count": null,
      "outputs": []
    },
    {
      "cell_type": "code",
      "source": [
        "scores, matched_pages"
      ],
      "metadata": {
        "id": "C_kd59LdQ5o4"
      },
      "execution_count": null,
      "outputs": []
    },
    {
      "cell_type": "code",
      "source": [
        "import matplotlib.pyplot as plt\n",
        "\n",
        "fig, ax = plt.subplots(figsize=(16, 12))\n",
        "ax.imshow(images[matched_pages[0]])\n",
        "ax.axis(\"off\")\n",
        "plt.show()"
      ],
      "metadata": {
        "id": "Vyn868PHRJTz"
      },
      "execution_count": null,
      "outputs": []
    }
  ]
}